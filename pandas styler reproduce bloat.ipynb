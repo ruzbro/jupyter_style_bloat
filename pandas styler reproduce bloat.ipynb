{
 "metadata": {
  "language_info": {
   "codemirror_mode": {
    "name": "ipython",
    "version": 3
   },
   "file_extension": ".py",
   "mimetype": "text/x-python",
   "name": "python",
   "nbconvert_exporter": "python",
   "pygments_lexer": "ipython3",
   "version": "3.8.5-final"
  },
  "orig_nbformat": 2,
  "kernelspec": {
   "name": "python3",
   "display_name": "Python 3",
   "language": "python"
  }
 },
 "nbformat": 4,
 "nbformat_minor": 2,
 "cells": [
  {
   "cell_type": "code",
   "execution_count": 1,
   "metadata": {},
   "outputs": [],
   "source": [
    "import pandas as pd\n",
    "import numpy as np"
   ]
  },
  {
   "cell_type": "code",
   "execution_count": 2,
   "metadata": {},
   "outputs": [],
   "source": [
    "# create a dataframe with 20000 rows × 10 columns of random number of floats\n",
    "rows = 20000\n",
    "cols = 10\n",
    "s = np.random.default_rng().uniform(-1,1,size = (rows, cols))\n",
    "df = pd.DataFrame(s)\n",
    "df.columns = ['0','1','2','3','4','5','6','7','8','9']"
   ]
  },
  {
   "cell_type": "code",
   "execution_count": 3,
   "metadata": {},
   "outputs": [],
   "source": [
    "# Use style command and format_dict to control display of columns\n",
    "format_dict = {'0': '{:.3f}', '1': '{:.3f}', '2': '{:.3f}', '3': '{:.3f}', \n",
    "               '4': '{:.3f}', '5': '{:.3f}', '6': '{:.3f}', '7': '{:.3f}', \n",
    "               '8': '{:.3f}', '9': '{:.3f}', }"
   ]
  },
  {
   "cell_type": "code",
   "execution_count": 4,
   "metadata": {},
   "outputs": [
    {
     "output_type": "execute_result",
     "data": {
      "text/plain": [
       "<pandas.io.formats.style.Styler at 0x7fcafbdd2dc0>"
      ],
      "text/html": "<style  type=\"text/css\" >\n</style><table id=\"T_3ce23c48_4750_11eb_a823_a45e60e6b81d\" ><thead>    <tr>        <th class=\"blank level0\" ></th>        <th class=\"col_heading level0 col0\" >0</th>        <th class=\"col_heading level0 col1\" >1</th>        <th class=\"col_heading level0 col2\" >2</th>        <th class=\"col_heading level0 col3\" >3</th>        <th class=\"col_heading level0 col4\" >4</th>        <th class=\"col_heading level0 col5\" >5</th>        <th class=\"col_heading level0 col6\" >6</th>        <th class=\"col_heading level0 col7\" >7</th>        <th class=\"col_heading level0 col8\" >8</th>        <th class=\"col_heading level0 col9\" >9</th>    </tr></thead><tbody>\n                <tr>\n                        <th id=\"T_3ce23c48_4750_11eb_a823_a45e60e6b81dlevel0_row0\" class=\"row_heading level0 row0\" >0</th>\n                        <td id=\"T_3ce23c48_4750_11eb_a823_a45e60e6b81drow0_col0\" class=\"data row0 col0\" >-0.127</td>\n                        <td id=\"T_3ce23c48_4750_11eb_a823_a45e60e6b81drow0_col1\" class=\"data row0 col1\" >-0.943</td>\n                        <td id=\"T_3ce23c48_4750_11eb_a823_a45e60e6b81drow0_col2\" class=\"data row0 col2\" >-0.975</td>\n                        <td id=\"T_3ce23c48_4750_11eb_a823_a45e60e6b81drow0_col3\" class=\"data row0 col3\" >0.122</td>\n                        <td id=\"T_3ce23c48_4750_11eb_a823_a45e60e6b81drow0_col4\" class=\"data row0 col4\" >0.020</td>\n                        <td id=\"T_3ce23c48_4750_11eb_a823_a45e60e6b81drow0_col5\" class=\"data row0 col5\" >0.555</td>\n                        <td id=\"T_3ce23c48_4750_11eb_a823_a45e60e6b81drow0_col6\" class=\"data row0 col6\" >0.575</td>\n                        <td id=\"T_3ce23c48_4750_11eb_a823_a45e60e6b81drow0_col7\" class=\"data row0 col7\" >-0.784</td>\n                        <td id=\"T_3ce23c48_4750_11eb_a823_a45e60e6b81drow0_col8\" class=\"data row0 col8\" >-0.734</td>\n                        <td id=\"T_3ce23c48_4750_11eb_a823_a45e60e6b81drow0_col9\" class=\"data row0 col9\" >0.340</td>\n            </tr>\n            <tr>\n                        <th id=\"T_3ce23c48_4750_11eb_a823_a45e60e6b81dlevel0_row1\" class=\"row_heading level0 row1\" >1</th>\n                        <td id=\"T_3ce23c48_4750_11eb_a823_a45e60e6b81drow1_col0\" class=\"data row1 col0\" >-0.283</td>\n                        <td id=\"T_3ce23c48_4750_11eb_a823_a45e60e6b81drow1_col1\" class=\"data row1 col1\" >-0.626</td>\n                        <td id=\"T_3ce23c48_4750_11eb_a823_a45e60e6b81drow1_col2\" class=\"data row1 col2\" >0.012</td>\n                        <td id=\"T_3ce23c48_4750_11eb_a823_a45e60e6b81drow1_col3\" class=\"data row1 col3\" >0.962</td>\n                        <td id=\"T_3ce23c48_4750_11eb_a823_a45e60e6b81drow1_col4\" class=\"data row1 col4\" >0.001</td>\n                        <td id=\"T_3ce23c48_4750_11eb_a823_a45e60e6b81drow1_col5\" class=\"data row1 col5\" >0.133</td>\n                        <td id=\"T_3ce23c48_4750_11eb_a823_a45e60e6b81drow1_col6\" class=\"data row1 col6\" >0.456</td>\n                        <td id=\"T_3ce23c48_4750_11eb_a823_a45e60e6b81drow1_col7\" class=\"data row1 col7\" >-0.535</td>\n                        <td id=\"T_3ce23c48_4750_11eb_a823_a45e60e6b81drow1_col8\" class=\"data row1 col8\" >-0.861</td>\n                        <td id=\"T_3ce23c48_4750_11eb_a823_a45e60e6b81drow1_col9\" class=\"data row1 col9\" >0.285</td>\n            </tr>\n            <tr>\n                        <th id=\"T_3ce23c48_4750_11eb_a823_a45e60e6b81dlevel0_row2\" class=\"row_heading level0 row2\" >2</th>\n                        <td id=\"T_3ce23c48_4750_11eb_a823_a45e60e6b81drow2_col0\" class=\"data row2 col0\" >-0.983</td>\n                        <td id=\"T_3ce23c48_4750_11eb_a823_a45e60e6b81drow2_col1\" class=\"data row2 col1\" >0.979</td>\n                        <td id=\"T_3ce23c48_4750_11eb_a823_a45e60e6b81drow2_col2\" class=\"data row2 col2\" >-0.431</td>\n                        <td id=\"T_3ce23c48_4750_11eb_a823_a45e60e6b81drow2_col3\" class=\"data row2 col3\" >-0.202</td>\n                        <td id=\"T_3ce23c48_4750_11eb_a823_a45e60e6b81drow2_col4\" class=\"data row2 col4\" >-0.643</td>\n                        <td id=\"T_3ce23c48_4750_11eb_a823_a45e60e6b81drow2_col5\" class=\"data row2 col5\" >-0.465</td>\n                        <td id=\"T_3ce23c48_4750_11eb_a823_a45e60e6b81drow2_col6\" class=\"data row2 col6\" >-0.302</td>\n                        <td id=\"T_3ce23c48_4750_11eb_a823_a45e60e6b81drow2_col7\" class=\"data row2 col7\" >0.331</td>\n                        <td id=\"T_3ce23c48_4750_11eb_a823_a45e60e6b81drow2_col8\" class=\"data row2 col8\" >-0.098</td>\n                        <td id=\"T_3ce23c48_4750_11eb_a823_a45e60e6b81drow2_col9\" class=\"data row2 col9\" >0.006</td>\n            </tr>\n            <tr>\n                        <th id=\"T_3ce23c48_4750_11eb_a823_a45e60e6b81dlevel0_row3\" class=\"row_heading level0 row3\" >3</th>\n                        <td id=\"T_3ce23c48_4750_11eb_a823_a45e60e6b81drow3_col0\" class=\"data row3 col0\" >-0.150</td>\n                        <td id=\"T_3ce23c48_4750_11eb_a823_a45e60e6b81drow3_col1\" class=\"data row3 col1\" >-0.745</td>\n                        <td id=\"T_3ce23c48_4750_11eb_a823_a45e60e6b81drow3_col2\" class=\"data row3 col2\" >-0.944</td>\n                        <td id=\"T_3ce23c48_4750_11eb_a823_a45e60e6b81drow3_col3\" class=\"data row3 col3\" >0.611</td>\n                        <td id=\"T_3ce23c48_4750_11eb_a823_a45e60e6b81drow3_col4\" class=\"data row3 col4\" >0.501</td>\n                        <td id=\"T_3ce23c48_4750_11eb_a823_a45e60e6b81drow3_col5\" class=\"data row3 col5\" >-0.708</td>\n                        <td id=\"T_3ce23c48_4750_11eb_a823_a45e60e6b81drow3_col6\" class=\"data row3 col6\" >0.954</td>\n                        <td id=\"T_3ce23c48_4750_11eb_a823_a45e60e6b81drow3_col7\" class=\"data row3 col7\" >0.051</td>\n                        <td id=\"T_3ce23c48_4750_11eb_a823_a45e60e6b81drow3_col8\" class=\"data row3 col8\" >0.608</td>\n                        <td id=\"T_3ce23c48_4750_11eb_a823_a45e60e6b81drow3_col9\" class=\"data row3 col9\" >0.805</td>\n            </tr>\n            <tr>\n                        <th id=\"T_3ce23c48_4750_11eb_a823_a45e60e6b81dlevel0_row4\" class=\"row_heading level0 row4\" >4</th>\n                        <td id=\"T_3ce23c48_4750_11eb_a823_a45e60e6b81drow4_col0\" class=\"data row4 col0\" >-0.619</td>\n                        <td id=\"T_3ce23c48_4750_11eb_a823_a45e60e6b81drow4_col1\" class=\"data row4 col1\" >-0.652</td>\n                        <td id=\"T_3ce23c48_4750_11eb_a823_a45e60e6b81drow4_col2\" class=\"data row4 col2\" >-0.133</td>\n                        <td id=\"T_3ce23c48_4750_11eb_a823_a45e60e6b81drow4_col3\" class=\"data row4 col3\" >0.327</td>\n                        <td id=\"T_3ce23c48_4750_11eb_a823_a45e60e6b81drow4_col4\" class=\"data row4 col4\" >-0.574</td>\n                        <td id=\"T_3ce23c48_4750_11eb_a823_a45e60e6b81drow4_col5\" class=\"data row4 col5\" >-0.527</td>\n                        <td id=\"T_3ce23c48_4750_11eb_a823_a45e60e6b81drow4_col6\" class=\"data row4 col6\" >-0.411</td>\n                        <td id=\"T_3ce23c48_4750_11eb_a823_a45e60e6b81drow4_col7\" class=\"data row4 col7\" >-0.869</td>\n                        <td id=\"T_3ce23c48_4750_11eb_a823_a45e60e6b81drow4_col8\" class=\"data row4 col8\" >-0.700</td>\n                        <td id=\"T_3ce23c48_4750_11eb_a823_a45e60e6b81drow4_col9\" class=\"data row4 col9\" >-0.642</td>\n            </tr>\n    </tbody></table>"
     },
     "metadata": {},
     "execution_count": 4
    }
   ],
   "source": [
    "# Display formatted dataframe\n",
    "df.head().style.format(format_dict)\n",
    "\n",
    "# WARNING: the command below will increase ipynb filesize to 32MB and will cause severe performance degradation\n",
    "# df.style.format(format_dict)"
   ]
  }
 ]
}